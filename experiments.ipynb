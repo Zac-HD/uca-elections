{
 "cells": [
  {
   "cell_type": "code",
   "execution_count": 3,
   "metadata": {
    "collapsed": false
   },
   "outputs": [],
   "source": [
    "import attr\n",
    "import enum\n",
    "\n",
    "import pandas as pd\n",
    "from hypothesis import *\n",
    "from hypothesis import strategies as st"
   ]
  },
  {
   "cell_type": "code",
   "execution_count": 4,
   "metadata": {
    "collapsed": true
   },
   "outputs": [],
   "source": [
    "Synod = enum.Enum('Synod', 'NSWACT VICTAS QLD SA WA NT')\n",
    "\n",
    "@attr.s\n",
    "class Nominee:\n",
    "    name = attr.ib(validator=attr.validators.instance_of(str))\n",
    "    votes = attr.ib(validator=[attr.validators.instance_of(int), lambda _, __, ap: ap >= 0])\n",
    "    synod = attr.ib(validator=attr.validators.instance_of(Synod))\n",
    "    young = attr.ib(validator=attr.validators.instance_of(bool))\n",
    "    ordained = attr.ib(validator=attr.validators.instance_of(bool))\n",
    "    cald = attr.ib(validator=attr.validators.instance_of(bool))\n",
    "    # For implementation reasons, the gender balance constraint is\n",
    "    # represented as 10-14 men of 24 members\n",
    "    male = attr.ib(validator=attr.validators.instance_of(bool))"
   ]
  },
  {
   "cell_type": "code",
   "execution_count": 5,
   "metadata": {
    "collapsed": false
   },
   "outputs": [
    {
     "data": {
      "text/plain": [
       "Attribute(name='votes', default=NOTHING, validator=_AndValidator(_validators=(<instance_of validator for type <class 'int'>>, <function Nominee.<lambda> at 0x00000067C6F879D8>)), repr=True, cmp=True, hash=None, init=True, convert=None, metadata=mappingproxy({}))"
      ]
     },
     "execution_count": 5,
     "metadata": {},
     "output_type": "execute_result"
    }
   ],
   "source": [
    "Nominee.votes"
   ]
  },
  {
   "cell_type": "code",
   "execution_count": 6,
   "metadata": {
    "collapsed": true
   },
   "outputs": [],
   "source": [
    "nominee_strat = st.builds(Nominee, name=st.from_regex('\\A[A-Z][a-z]{1,9} [A-Z][a-z]{1,9}\\Z'),\n",
    "                          votes=st.integers(0, 400), synod=st.sampled_from(Synod), young=st.booleans(),\n",
    "                          ordained=st.booleans(), cald=st.booleans(), male=st.booleans())"
   ]
  },
  {
   "cell_type": "code",
   "execution_count": 7,
   "metadata": {
    "collapsed": false
   },
   "outputs": [
    {
     "data": {
      "text/plain": [
       "Nominee(name='Fnehlyyrh Mynyimxf', votes=123, synod=<Synod.QLD: 3>, young=True, ordained=True, cald=True, male=True)"
      ]
     },
     "execution_count": 7,
     "metadata": {},
     "output_type": "execute_result"
    }
   ],
   "source": [
    "nominee_strat.example()"
   ]
  },
  {
   "cell_type": "code",
   "execution_count": 8,
   "metadata": {
    "collapsed": true
   },
   "outputs": [],
   "source": [
    "nominees = st.lists(nominee_strat, min_size=30, max_size=60, unique_by=lambda n: n.name)"
   ]
  },
  {
   "cell_type": "code",
   "execution_count": 10,
   "metadata": {
    "collapsed": true
   },
   "outputs": [],
   "source": [
    "import itertools"
   ]
  },
  {
   "cell_type": "code",
   "execution_count": 11,
   "metadata": {
    "collapsed": false
   },
   "outputs": [
    {
     "name": "stdout",
     "output_type": "stream",
     "text": [
      "1000000\n",
      "Wall time: 2.77 s\n"
     ]
    }
   ],
   "source": [
    "%%time\n",
    "count = 0\n",
    "it = itertools.combinations(sorted(nominees.example(), key=lambda n: n.votes)[:30], 18)\n",
    "for _ in range(10**6):\n",
    "    sum(n.votes for n in next(it))\n",
    "    count +=1\n",
    "print(count)"
   ]
  },
  {
   "cell_type": "code",
   "execution_count": 13,
   "metadata": {
    "collapsed": false
   },
   "outputs": [
    {
     "data": {
      "text/plain": [
       "[364,\n",
       " 360,\n",
       " 350,\n",
       " 350,\n",
       " 336,\n",
       " 330,\n",
       " 330,\n",
       " 328,\n",
       " 327,\n",
       " 318,\n",
       " 314,\n",
       " 311,\n",
       " 309,\n",
       " 306,\n",
       " 293,\n",
       " 286,\n",
       " 278,\n",
       " 274,\n",
       " 268,\n",
       " 261,\n",
       " 258,\n",
       " 253,\n",
       " 242,\n",
       " 226,\n",
       " 226,\n",
       " 221,\n",
       " 219,\n",
       " 194,\n",
       " 187,\n",
       " 171]"
      ]
     },
     "execution_count": 13,
     "metadata": {},
     "output_type": "execute_result"
    }
   ],
   "source": [
    "pool = sorted(nominees.example(), key=lambda n: n.votes, reverse=True)[:30]\n",
    "[n.votes for n in pool]"
   ]
  },
  {
   "cell_type": "code",
   "execution_count": null,
   "metadata": {
    "collapsed": false
   },
   "outputs": [],
   "source": [
    "%%time\n",
    "it = itertools.combinations(pool, 18)\n",
    "best = next(it)\n",
    "score = sum(n.votes for n in best)\n",
    "for i, cte in enumerate(it):\n",
    "    s = sum(n.votes for n in cte)\n",
    "    if s > score:\n",
    "        score = s\n",
    "        best = cte\n",
    "# time: ~2.8 seconds per million combinations\n",
    "print(score, cte)"
   ]
  },
  {
   "cell_type": "code",
   "execution_count": null,
   "metadata": {
    "collapsed": true
   },
   "outputs": [],
   "source": []
  }
 ],
 "metadata": {
  "anaconda-cloud": {},
  "kernelspec": {
   "display_name": "Python [default]",
   "language": "python",
   "name": "python3"
  }
 },
 "nbformat": 4,
 "nbformat_minor": 2
}
